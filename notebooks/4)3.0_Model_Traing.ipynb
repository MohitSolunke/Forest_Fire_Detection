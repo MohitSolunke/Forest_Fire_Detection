{
 "cells": [
  {
   "cell_type": "code",
   "execution_count": 1,
   "id": "9d4960b6-c41e-4bec-92eb-e94927e64323",
   "metadata": {},
   "outputs": [],
   "source": [
    "import pandas as pd\n",
    "import numpy as np\n",
    "import matplotlib.pyplot as plt\n",
    "import seaborn as sns\n",
    "%matplotlib inline"
   ]
  },
  {
   "cell_type": "code",
   "execution_count": 2,
   "id": "ffc5c07f-a4ef-407f-8205-12ce1e82b931",
   "metadata": {},
   "outputs": [],
   "source": [
    "df=pd.read_csv('Algerian_forest_fires_cleaned_datasets.csv')"
   ]
  },
  {
   "cell_type": "code",
   "execution_count": 3,
   "id": "22249d64-999e-4715-bbb0-89c1393d8401",
   "metadata": {},
   "outputs": [
    {
     "data": {
      "text/html": [
       "<div>\n",
       "<style scoped>\n",
       "    .dataframe tbody tr th:only-of-type {\n",
       "        vertical-align: middle;\n",
       "    }\n",
       "\n",
       "    .dataframe tbody tr th {\n",
       "        vertical-align: top;\n",
       "    }\n",
       "\n",
       "    .dataframe thead th {\n",
       "        text-align: right;\n",
       "    }\n",
       "</style>\n",
       "<table border=\"1\" class=\"dataframe\">\n",
       "  <thead>\n",
       "    <tr style=\"text-align: right;\">\n",
       "      <th></th>\n",
       "      <th>day</th>\n",
       "      <th>month</th>\n",
       "      <th>year</th>\n",
       "      <th>Temperature</th>\n",
       "      <th>RH</th>\n",
       "      <th>Ws</th>\n",
       "      <th>Rain</th>\n",
       "      <th>FFMC</th>\n",
       "      <th>DMC</th>\n",
       "      <th>DC</th>\n",
       "      <th>ISI</th>\n",
       "      <th>BUI</th>\n",
       "      <th>FWI</th>\n",
       "      <th>Classes</th>\n",
       "      <th>Region</th>\n",
       "    </tr>\n",
       "  </thead>\n",
       "  <tbody>\n",
       "    <tr>\n",
       "      <th>0</th>\n",
       "      <td>1</td>\n",
       "      <td>6</td>\n",
       "      <td>2012</td>\n",
       "      <td>29</td>\n",
       "      <td>57</td>\n",
       "      <td>18</td>\n",
       "      <td>0.0</td>\n",
       "      <td>65.7</td>\n",
       "      <td>3.4</td>\n",
       "      <td>7.6</td>\n",
       "      <td>1.3</td>\n",
       "      <td>3.4</td>\n",
       "      <td>0.5</td>\n",
       "      <td>not fire</td>\n",
       "      <td>0</td>\n",
       "    </tr>\n",
       "    <tr>\n",
       "      <th>1</th>\n",
       "      <td>2</td>\n",
       "      <td>6</td>\n",
       "      <td>2012</td>\n",
       "      <td>29</td>\n",
       "      <td>61</td>\n",
       "      <td>13</td>\n",
       "      <td>1.3</td>\n",
       "      <td>64.4</td>\n",
       "      <td>4.1</td>\n",
       "      <td>7.6</td>\n",
       "      <td>1.0</td>\n",
       "      <td>3.9</td>\n",
       "      <td>0.4</td>\n",
       "      <td>not fire</td>\n",
       "      <td>0</td>\n",
       "    </tr>\n",
       "    <tr>\n",
       "      <th>2</th>\n",
       "      <td>3</td>\n",
       "      <td>6</td>\n",
       "      <td>2012</td>\n",
       "      <td>26</td>\n",
       "      <td>82</td>\n",
       "      <td>22</td>\n",
       "      <td>13.1</td>\n",
       "      <td>47.1</td>\n",
       "      <td>2.5</td>\n",
       "      <td>7.1</td>\n",
       "      <td>0.3</td>\n",
       "      <td>2.7</td>\n",
       "      <td>0.1</td>\n",
       "      <td>not fire</td>\n",
       "      <td>0</td>\n",
       "    </tr>\n",
       "    <tr>\n",
       "      <th>3</th>\n",
       "      <td>4</td>\n",
       "      <td>6</td>\n",
       "      <td>2012</td>\n",
       "      <td>25</td>\n",
       "      <td>89</td>\n",
       "      <td>13</td>\n",
       "      <td>2.5</td>\n",
       "      <td>28.6</td>\n",
       "      <td>1.3</td>\n",
       "      <td>6.9</td>\n",
       "      <td>0.0</td>\n",
       "      <td>1.7</td>\n",
       "      <td>0.0</td>\n",
       "      <td>not fire</td>\n",
       "      <td>0</td>\n",
       "    </tr>\n",
       "    <tr>\n",
       "      <th>4</th>\n",
       "      <td>5</td>\n",
       "      <td>6</td>\n",
       "      <td>2012</td>\n",
       "      <td>27</td>\n",
       "      <td>77</td>\n",
       "      <td>16</td>\n",
       "      <td>0.0</td>\n",
       "      <td>64.8</td>\n",
       "      <td>3.0</td>\n",
       "      <td>14.2</td>\n",
       "      <td>1.2</td>\n",
       "      <td>3.9</td>\n",
       "      <td>0.5</td>\n",
       "      <td>not fire</td>\n",
       "      <td>0</td>\n",
       "    </tr>\n",
       "  </tbody>\n",
       "</table>\n",
       "</div>"
      ],
      "text/plain": [
       "   day  month  year  Temperature  RH  Ws  Rain  FFMC  DMC    DC  ISI  BUI  \\\n",
       "0    1      6  2012           29  57  18   0.0  65.7  3.4   7.6  1.3  3.4   \n",
       "1    2      6  2012           29  61  13   1.3  64.4  4.1   7.6  1.0  3.9   \n",
       "2    3      6  2012           26  82  22  13.1  47.1  2.5   7.1  0.3  2.7   \n",
       "3    4      6  2012           25  89  13   2.5  28.6  1.3   6.9  0.0  1.7   \n",
       "4    5      6  2012           27  77  16   0.0  64.8  3.0  14.2  1.2  3.9   \n",
       "\n",
       "   FWI      Classes  Region  \n",
       "0  0.5  not fire          0  \n",
       "1  0.4  not fire          0  \n",
       "2  0.1  not fire          0  \n",
       "3  0.0  not fire          0  \n",
       "4  0.5  not fire          0  "
      ]
     },
     "execution_count": 3,
     "metadata": {},
     "output_type": "execute_result"
    }
   ],
   "source": [
    "df.head()"
   ]
  },
  {
   "cell_type": "code",
   "execution_count": 4,
   "id": "1d2d342e-6085-4c25-b125-63a0f9a44549",
   "metadata": {},
   "outputs": [
    {
     "data": {
      "text/plain": [
       "Index(['day', 'month', 'year', 'Temperature', 'RH', 'Ws', 'Rain', 'FFMC',\n",
       "       'DMC', 'DC', 'ISI', 'BUI', 'FWI', 'Classes', 'Region'],\n",
       "      dtype='object')"
      ]
     },
     "execution_count": 4,
     "metadata": {},
     "output_type": "execute_result"
    }
   ],
   "source": [
    "df.columns"
   ]
  },
  {
   "cell_type": "code",
   "execution_count": 5,
   "id": "4dd6020e-9c79-406b-967a-2c44dc0a2358",
   "metadata": {},
   "outputs": [],
   "source": [
    "##drop month,day and yyear\n",
    "df.drop(['day','month','year'],axis=1,inplace=True)"
   ]
  },
  {
   "cell_type": "code",
   "execution_count": 6,
   "id": "c46049e6-e5be-470d-a7a9-cfad539f894c",
   "metadata": {},
   "outputs": [
    {
     "data": {
      "text/html": [
       "<div>\n",
       "<style scoped>\n",
       "    .dataframe tbody tr th:only-of-type {\n",
       "        vertical-align: middle;\n",
       "    }\n",
       "\n",
       "    .dataframe tbody tr th {\n",
       "        vertical-align: top;\n",
       "    }\n",
       "\n",
       "    .dataframe thead th {\n",
       "        text-align: right;\n",
       "    }\n",
       "</style>\n",
       "<table border=\"1\" class=\"dataframe\">\n",
       "  <thead>\n",
       "    <tr style=\"text-align: right;\">\n",
       "      <th></th>\n",
       "      <th>Temperature</th>\n",
       "      <th>RH</th>\n",
       "      <th>Ws</th>\n",
       "      <th>Rain</th>\n",
       "      <th>FFMC</th>\n",
       "      <th>DMC</th>\n",
       "      <th>DC</th>\n",
       "      <th>ISI</th>\n",
       "      <th>BUI</th>\n",
       "      <th>FWI</th>\n",
       "      <th>Classes</th>\n",
       "      <th>Region</th>\n",
       "    </tr>\n",
       "  </thead>\n",
       "  <tbody>\n",
       "    <tr>\n",
       "      <th>0</th>\n",
       "      <td>29</td>\n",
       "      <td>57</td>\n",
       "      <td>18</td>\n",
       "      <td>0.0</td>\n",
       "      <td>65.7</td>\n",
       "      <td>3.4</td>\n",
       "      <td>7.6</td>\n",
       "      <td>1.3</td>\n",
       "      <td>3.4</td>\n",
       "      <td>0.5</td>\n",
       "      <td>not fire</td>\n",
       "      <td>0</td>\n",
       "    </tr>\n",
       "    <tr>\n",
       "      <th>1</th>\n",
       "      <td>29</td>\n",
       "      <td>61</td>\n",
       "      <td>13</td>\n",
       "      <td>1.3</td>\n",
       "      <td>64.4</td>\n",
       "      <td>4.1</td>\n",
       "      <td>7.6</td>\n",
       "      <td>1.0</td>\n",
       "      <td>3.9</td>\n",
       "      <td>0.4</td>\n",
       "      <td>not fire</td>\n",
       "      <td>0</td>\n",
       "    </tr>\n",
       "    <tr>\n",
       "      <th>2</th>\n",
       "      <td>26</td>\n",
       "      <td>82</td>\n",
       "      <td>22</td>\n",
       "      <td>13.1</td>\n",
       "      <td>47.1</td>\n",
       "      <td>2.5</td>\n",
       "      <td>7.1</td>\n",
       "      <td>0.3</td>\n",
       "      <td>2.7</td>\n",
       "      <td>0.1</td>\n",
       "      <td>not fire</td>\n",
       "      <td>0</td>\n",
       "    </tr>\n",
       "    <tr>\n",
       "      <th>3</th>\n",
       "      <td>25</td>\n",
       "      <td>89</td>\n",
       "      <td>13</td>\n",
       "      <td>2.5</td>\n",
       "      <td>28.6</td>\n",
       "      <td>1.3</td>\n",
       "      <td>6.9</td>\n",
       "      <td>0.0</td>\n",
       "      <td>1.7</td>\n",
       "      <td>0.0</td>\n",
       "      <td>not fire</td>\n",
       "      <td>0</td>\n",
       "    </tr>\n",
       "    <tr>\n",
       "      <th>4</th>\n",
       "      <td>27</td>\n",
       "      <td>77</td>\n",
       "      <td>16</td>\n",
       "      <td>0.0</td>\n",
       "      <td>64.8</td>\n",
       "      <td>3.0</td>\n",
       "      <td>14.2</td>\n",
       "      <td>1.2</td>\n",
       "      <td>3.9</td>\n",
       "      <td>0.5</td>\n",
       "      <td>not fire</td>\n",
       "      <td>0</td>\n",
       "    </tr>\n",
       "  </tbody>\n",
       "</table>\n",
       "</div>"
      ],
      "text/plain": [
       "   Temperature  RH  Ws  Rain  FFMC  DMC    DC  ISI  BUI  FWI      Classes  \\\n",
       "0           29  57  18   0.0  65.7  3.4   7.6  1.3  3.4  0.5  not fire      \n",
       "1           29  61  13   1.3  64.4  4.1   7.6  1.0  3.9  0.4  not fire      \n",
       "2           26  82  22  13.1  47.1  2.5   7.1  0.3  2.7  0.1  not fire      \n",
       "3           25  89  13   2.5  28.6  1.3   6.9  0.0  1.7  0.0  not fire      \n",
       "4           27  77  16   0.0  64.8  3.0  14.2  1.2  3.9  0.5  not fire      \n",
       "\n",
       "   Region  \n",
       "0       0  \n",
       "1       0  \n",
       "2       0  \n",
       "3       0  \n",
       "4       0  "
      ]
     },
     "execution_count": 6,
     "metadata": {},
     "output_type": "execute_result"
    }
   ],
   "source": [
    "df.head()"
   ]
  },
  {
   "cell_type": "code",
   "execution_count": 7,
   "id": "041db620-4944-4f2c-8206-722500395372",
   "metadata": {},
   "outputs": [
    {
     "data": {
      "text/plain": [
       "1              125\n",
       "not fire        60\n",
       "fire            53\n",
       "fire             4\n",
       "fire             2\n",
       "not fire         2\n",
       "not fire         1\n",
       "Name: Classes, dtype: int64"
      ]
     },
     "execution_count": 7,
     "metadata": {},
     "output_type": "execute_result"
    }
   ],
   "source": [
    "df['Classes'].value_counts()"
   ]
  },
  {
   "cell_type": "code",
   "execution_count": 8,
   "id": "01d3bab4-ff32-4edd-a6f7-1200d94924bb",
   "metadata": {},
   "outputs": [],
   "source": [
    "## Encoding\n",
    "df['Classes']=np.where(df['Classes'].str.contains(\"not fire\"),0,1)"
   ]
  },
  {
   "cell_type": "code",
   "execution_count": 9,
   "id": "13b0cab7-bf5c-4cfc-becf-63a8c9ed63f4",
   "metadata": {},
   "outputs": [
    {
     "data": {
      "text/html": [
       "<div>\n",
       "<style scoped>\n",
       "    .dataframe tbody tr th:only-of-type {\n",
       "        vertical-align: middle;\n",
       "    }\n",
       "\n",
       "    .dataframe tbody tr th {\n",
       "        vertical-align: top;\n",
       "    }\n",
       "\n",
       "    .dataframe thead th {\n",
       "        text-align: right;\n",
       "    }\n",
       "</style>\n",
       "<table border=\"1\" class=\"dataframe\">\n",
       "  <thead>\n",
       "    <tr style=\"text-align: right;\">\n",
       "      <th></th>\n",
       "      <th>Temperature</th>\n",
       "      <th>RH</th>\n",
       "      <th>Ws</th>\n",
       "      <th>Rain</th>\n",
       "      <th>FFMC</th>\n",
       "      <th>DMC</th>\n",
       "      <th>DC</th>\n",
       "      <th>ISI</th>\n",
       "      <th>BUI</th>\n",
       "      <th>FWI</th>\n",
       "      <th>Classes</th>\n",
       "      <th>Region</th>\n",
       "    </tr>\n",
       "  </thead>\n",
       "  <tbody>\n",
       "    <tr>\n",
       "      <th>242</th>\n",
       "      <td>1</td>\n",
       "      <td>1</td>\n",
       "      <td>1</td>\n",
       "      <td>1.0</td>\n",
       "      <td>1.0</td>\n",
       "      <td>1.0</td>\n",
       "      <td>1.0</td>\n",
       "      <td>1.0</td>\n",
       "      <td>1.0</td>\n",
       "      <td>1.0</td>\n",
       "      <td>1</td>\n",
       "      <td>1</td>\n",
       "    </tr>\n",
       "    <tr>\n",
       "      <th>243</th>\n",
       "      <td>1</td>\n",
       "      <td>1</td>\n",
       "      <td>1</td>\n",
       "      <td>1.0</td>\n",
       "      <td>1.0</td>\n",
       "      <td>1.0</td>\n",
       "      <td>1.0</td>\n",
       "      <td>1.0</td>\n",
       "      <td>1.0</td>\n",
       "      <td>1.0</td>\n",
       "      <td>1</td>\n",
       "      <td>1</td>\n",
       "    </tr>\n",
       "    <tr>\n",
       "      <th>244</th>\n",
       "      <td>1</td>\n",
       "      <td>1</td>\n",
       "      <td>1</td>\n",
       "      <td>1.0</td>\n",
       "      <td>1.0</td>\n",
       "      <td>1.0</td>\n",
       "      <td>1.0</td>\n",
       "      <td>1.0</td>\n",
       "      <td>1.0</td>\n",
       "      <td>1.0</td>\n",
       "      <td>1</td>\n",
       "      <td>1</td>\n",
       "    </tr>\n",
       "    <tr>\n",
       "      <th>245</th>\n",
       "      <td>1</td>\n",
       "      <td>1</td>\n",
       "      <td>1</td>\n",
       "      <td>1.0</td>\n",
       "      <td>1.0</td>\n",
       "      <td>1.0</td>\n",
       "      <td>1.0</td>\n",
       "      <td>1.0</td>\n",
       "      <td>1.0</td>\n",
       "      <td>1.0</td>\n",
       "      <td>1</td>\n",
       "      <td>1</td>\n",
       "    </tr>\n",
       "    <tr>\n",
       "      <th>246</th>\n",
       "      <td>1</td>\n",
       "      <td>1</td>\n",
       "      <td>1</td>\n",
       "      <td>1.0</td>\n",
       "      <td>1.0</td>\n",
       "      <td>1.0</td>\n",
       "      <td>1.0</td>\n",
       "      <td>1.0</td>\n",
       "      <td>1.0</td>\n",
       "      <td>1.0</td>\n",
       "      <td>1</td>\n",
       "      <td>1</td>\n",
       "    </tr>\n",
       "  </tbody>\n",
       "</table>\n",
       "</div>"
      ],
      "text/plain": [
       "     Temperature  RH  Ws  Rain  FFMC  DMC   DC  ISI  BUI  FWI  Classes  Region\n",
       "242            1   1   1   1.0   1.0  1.0  1.0  1.0  1.0  1.0        1       1\n",
       "243            1   1   1   1.0   1.0  1.0  1.0  1.0  1.0  1.0        1       1\n",
       "244            1   1   1   1.0   1.0  1.0  1.0  1.0  1.0  1.0        1       1\n",
       "245            1   1   1   1.0   1.0  1.0  1.0  1.0  1.0  1.0        1       1\n",
       "246            1   1   1   1.0   1.0  1.0  1.0  1.0  1.0  1.0        1       1"
      ]
     },
     "execution_count": 9,
     "metadata": {},
     "output_type": "execute_result"
    }
   ],
   "source": [
    "df.tail()"
   ]
  },
  {
   "cell_type": "code",
   "execution_count": 10,
   "id": "ee153e4d-610b-4c61-b3f1-9e53d1a5af7c",
   "metadata": {},
   "outputs": [
    {
     "data": {
      "text/plain": [
       "1    184\n",
       "0     63\n",
       "Name: Classes, dtype: int64"
      ]
     },
     "execution_count": 10,
     "metadata": {},
     "output_type": "execute_result"
    }
   ],
   "source": [
    "df['Classes'].value_counts()"
   ]
  },
  {
   "cell_type": "code",
   "execution_count": 11,
   "id": "bc44d7a1-21d7-4358-bb22-bbd177ad7f2b",
   "metadata": {},
   "outputs": [],
   "source": [
    "## Independent And dependent features\n",
    "X=df.drop('FWI',axis=1)\n",
    "y=df['FWI']"
   ]
  },
  {
   "cell_type": "code",
   "execution_count": 12,
   "id": "caa53b83-5ed2-43d7-b11b-b67bb578cbb7",
   "metadata": {},
   "outputs": [
    {
     "data": {
      "text/html": [
       "<div>\n",
       "<style scoped>\n",
       "    .dataframe tbody tr th:only-of-type {\n",
       "        vertical-align: middle;\n",
       "    }\n",
       "\n",
       "    .dataframe tbody tr th {\n",
       "        vertical-align: top;\n",
       "    }\n",
       "\n",
       "    .dataframe thead th {\n",
       "        text-align: right;\n",
       "    }\n",
       "</style>\n",
       "<table border=\"1\" class=\"dataframe\">\n",
       "  <thead>\n",
       "    <tr style=\"text-align: right;\">\n",
       "      <th></th>\n",
       "      <th>Temperature</th>\n",
       "      <th>RH</th>\n",
       "      <th>Ws</th>\n",
       "      <th>Rain</th>\n",
       "      <th>FFMC</th>\n",
       "      <th>DMC</th>\n",
       "      <th>DC</th>\n",
       "      <th>ISI</th>\n",
       "      <th>BUI</th>\n",
       "      <th>Classes</th>\n",
       "      <th>Region</th>\n",
       "    </tr>\n",
       "  </thead>\n",
       "  <tbody>\n",
       "    <tr>\n",
       "      <th>0</th>\n",
       "      <td>29</td>\n",
       "      <td>57</td>\n",
       "      <td>18</td>\n",
       "      <td>0.0</td>\n",
       "      <td>65.7</td>\n",
       "      <td>3.4</td>\n",
       "      <td>7.6</td>\n",
       "      <td>1.3</td>\n",
       "      <td>3.4</td>\n",
       "      <td>0</td>\n",
       "      <td>0</td>\n",
       "    </tr>\n",
       "    <tr>\n",
       "      <th>1</th>\n",
       "      <td>29</td>\n",
       "      <td>61</td>\n",
       "      <td>13</td>\n",
       "      <td>1.3</td>\n",
       "      <td>64.4</td>\n",
       "      <td>4.1</td>\n",
       "      <td>7.6</td>\n",
       "      <td>1.0</td>\n",
       "      <td>3.9</td>\n",
       "      <td>0</td>\n",
       "      <td>0</td>\n",
       "    </tr>\n",
       "    <tr>\n",
       "      <th>2</th>\n",
       "      <td>26</td>\n",
       "      <td>82</td>\n",
       "      <td>22</td>\n",
       "      <td>13.1</td>\n",
       "      <td>47.1</td>\n",
       "      <td>2.5</td>\n",
       "      <td>7.1</td>\n",
       "      <td>0.3</td>\n",
       "      <td>2.7</td>\n",
       "      <td>0</td>\n",
       "      <td>0</td>\n",
       "    </tr>\n",
       "    <tr>\n",
       "      <th>3</th>\n",
       "      <td>25</td>\n",
       "      <td>89</td>\n",
       "      <td>13</td>\n",
       "      <td>2.5</td>\n",
       "      <td>28.6</td>\n",
       "      <td>1.3</td>\n",
       "      <td>6.9</td>\n",
       "      <td>0.0</td>\n",
       "      <td>1.7</td>\n",
       "      <td>0</td>\n",
       "      <td>0</td>\n",
       "    </tr>\n",
       "    <tr>\n",
       "      <th>4</th>\n",
       "      <td>27</td>\n",
       "      <td>77</td>\n",
       "      <td>16</td>\n",
       "      <td>0.0</td>\n",
       "      <td>64.8</td>\n",
       "      <td>3.0</td>\n",
       "      <td>14.2</td>\n",
       "      <td>1.2</td>\n",
       "      <td>3.9</td>\n",
       "      <td>0</td>\n",
       "      <td>0</td>\n",
       "    </tr>\n",
       "  </tbody>\n",
       "</table>\n",
       "</div>"
      ],
      "text/plain": [
       "   Temperature  RH  Ws  Rain  FFMC  DMC    DC  ISI  BUI  Classes  Region\n",
       "0           29  57  18   0.0  65.7  3.4   7.6  1.3  3.4        0       0\n",
       "1           29  61  13   1.3  64.4  4.1   7.6  1.0  3.9        0       0\n",
       "2           26  82  22  13.1  47.1  2.5   7.1  0.3  2.7        0       0\n",
       "3           25  89  13   2.5  28.6  1.3   6.9  0.0  1.7        0       0\n",
       "4           27  77  16   0.0  64.8  3.0  14.2  1.2  3.9        0       0"
      ]
     },
     "execution_count": 12,
     "metadata": {},
     "output_type": "execute_result"
    }
   ],
   "source": [
    "X.head()"
   ]
  },
  {
   "cell_type": "code",
   "execution_count": 13,
   "id": "ab57e653-9026-47aa-be91-0ba27be21b00",
   "metadata": {},
   "outputs": [
    {
     "data": {
      "text/plain": [
       "0      0.5\n",
       "1      0.4\n",
       "2      0.1\n",
       "3      0.0\n",
       "4      0.5\n",
       "      ... \n",
       "242    1.0\n",
       "243    1.0\n",
       "244    1.0\n",
       "245    1.0\n",
       "246    1.0\n",
       "Name: FWI, Length: 247, dtype: float64"
      ]
     },
     "execution_count": 13,
     "metadata": {},
     "output_type": "execute_result"
    }
   ],
   "source": [
    "y"
   ]
  },
  {
   "cell_type": "code",
   "execution_count": 14,
   "id": "42d4382d-70a6-499a-abf6-862b49390bff",
   "metadata": {},
   "outputs": [],
   "source": [
    "#Train Test Split\n",
    "from sklearn.model_selection import train_test_split\n",
    "X_train,X_test,y_train,y_test=train_test_split(X,y,test_size=0.25,random_state=42)"
   ]
  },
  {
   "cell_type": "code",
   "execution_count": 15,
   "id": "57a5318d-bfb3-4496-84aa-abaefb650fd7",
   "metadata": {},
   "outputs": [
    {
     "data": {
      "text/plain": [
       "((185, 11), (62, 11))"
      ]
     },
     "execution_count": 15,
     "metadata": {},
     "output_type": "execute_result"
    }
   ],
   "source": [
    "X_train.shape,X_test.shape"
   ]
  },
  {
   "cell_type": "code",
   "execution_count": 16,
   "id": "5a23424e-8fd9-4b3a-98ec-6733455bf550",
   "metadata": {},
   "outputs": [
    {
     "data": {
      "text/html": [
       "<div>\n",
       "<style scoped>\n",
       "    .dataframe tbody tr th:only-of-type {\n",
       "        vertical-align: middle;\n",
       "    }\n",
       "\n",
       "    .dataframe tbody tr th {\n",
       "        vertical-align: top;\n",
       "    }\n",
       "\n",
       "    .dataframe thead th {\n",
       "        text-align: right;\n",
       "    }\n",
       "</style>\n",
       "<table border=\"1\" class=\"dataframe\">\n",
       "  <thead>\n",
       "    <tr style=\"text-align: right;\">\n",
       "      <th></th>\n",
       "      <th>Temperature</th>\n",
       "      <th>RH</th>\n",
       "      <th>Ws</th>\n",
       "      <th>Rain</th>\n",
       "      <th>FFMC</th>\n",
       "      <th>DMC</th>\n",
       "      <th>DC</th>\n",
       "      <th>ISI</th>\n",
       "      <th>BUI</th>\n",
       "      <th>Classes</th>\n",
       "      <th>Region</th>\n",
       "    </tr>\n",
       "  </thead>\n",
       "  <tbody>\n",
       "    <tr>\n",
       "      <th>Temperature</th>\n",
       "      <td>1.000000</td>\n",
       "      <td>0.938412</td>\n",
       "      <td>0.944367</td>\n",
       "      <td>-0.080793</td>\n",
       "      <td>0.982268</td>\n",
       "      <td>0.642126</td>\n",
       "      <td>0.643859</td>\n",
       "      <td>0.605105</td>\n",
       "      <td>0.640741</td>\n",
       "      <td>-0.531291</td>\n",
       "      <td>-0.986991</td>\n",
       "    </tr>\n",
       "    <tr>\n",
       "      <th>RH</th>\n",
       "      <td>0.938412</td>\n",
       "      <td>1.000000</td>\n",
       "      <td>0.956292</td>\n",
       "      <td>0.076475</td>\n",
       "      <td>0.896056</td>\n",
       "      <td>0.497774</td>\n",
       "      <td>0.507252</td>\n",
       "      <td>0.400088</td>\n",
       "      <td>0.497638</td>\n",
       "      <td>-0.651414</td>\n",
       "      <td>-0.975149</td>\n",
       "    </tr>\n",
       "    <tr>\n",
       "      <th>Ws</th>\n",
       "      <td>0.944367</td>\n",
       "      <td>0.956292</td>\n",
       "      <td>1.000000</td>\n",
       "      <td>0.094249</td>\n",
       "      <td>0.912429</td>\n",
       "      <td>0.561476</td>\n",
       "      <td>0.575493</td>\n",
       "      <td>0.493555</td>\n",
       "      <td>0.563968</td>\n",
       "      <td>-0.602254</td>\n",
       "      <td>-0.967682</td>\n",
       "    </tr>\n",
       "    <tr>\n",
       "      <th>Rain</th>\n",
       "      <td>-0.080793</td>\n",
       "      <td>0.076475</td>\n",
       "      <td>0.094249</td>\n",
       "      <td>1.000000</td>\n",
       "      <td>-0.170536</td>\n",
       "      <td>-0.224725</td>\n",
       "      <td>-0.242560</td>\n",
       "      <td>-0.321984</td>\n",
       "      <td>-0.231978</td>\n",
       "      <td>-0.274583</td>\n",
       "      <td>0.000578</td>\n",
       "    </tr>\n",
       "    <tr>\n",
       "      <th>FFMC</th>\n",
       "      <td>0.982268</td>\n",
       "      <td>0.896056</td>\n",
       "      <td>0.912429</td>\n",
       "      <td>-0.170536</td>\n",
       "      <td>1.000000</td>\n",
       "      <td>0.699428</td>\n",
       "      <td>0.695973</td>\n",
       "      <td>0.694338</td>\n",
       "      <td>0.697189</td>\n",
       "      <td>-0.406275</td>\n",
       "      <td>-0.959317</td>\n",
       "    </tr>\n",
       "    <tr>\n",
       "      <th>DMC</th>\n",
       "      <td>0.642126</td>\n",
       "      <td>0.497774</td>\n",
       "      <td>0.561476</td>\n",
       "      <td>-0.224725</td>\n",
       "      <td>0.699428</td>\n",
       "      <td>1.000000</td>\n",
       "      <td>0.974467</td>\n",
       "      <td>0.837314</td>\n",
       "      <td>0.997079</td>\n",
       "      <td>0.050783</td>\n",
       "      <td>-0.579395</td>\n",
       "    </tr>\n",
       "    <tr>\n",
       "      <th>DC</th>\n",
       "      <td>0.643859</td>\n",
       "      <td>0.507252</td>\n",
       "      <td>0.575493</td>\n",
       "      <td>-0.242560</td>\n",
       "      <td>0.695973</td>\n",
       "      <td>0.974467</td>\n",
       "      <td>1.000000</td>\n",
       "      <td>0.806429</td>\n",
       "      <td>0.987903</td>\n",
       "      <td>0.025921</td>\n",
       "      <td>-0.583456</td>\n",
       "    </tr>\n",
       "    <tr>\n",
       "      <th>ISI</th>\n",
       "      <td>0.605105</td>\n",
       "      <td>0.400088</td>\n",
       "      <td>0.493555</td>\n",
       "      <td>-0.321984</td>\n",
       "      <td>0.694338</td>\n",
       "      <td>0.837314</td>\n",
       "      <td>0.806429</td>\n",
       "      <td>1.000000</td>\n",
       "      <td>0.833234</td>\n",
       "      <td>0.253670</td>\n",
       "      <td>-0.523598</td>\n",
       "    </tr>\n",
       "    <tr>\n",
       "      <th>BUI</th>\n",
       "      <td>0.640741</td>\n",
       "      <td>0.497638</td>\n",
       "      <td>0.563968</td>\n",
       "      <td>-0.231978</td>\n",
       "      <td>0.697189</td>\n",
       "      <td>0.997079</td>\n",
       "      <td>0.987903</td>\n",
       "      <td>0.833234</td>\n",
       "      <td>1.000000</td>\n",
       "      <td>0.049428</td>\n",
       "      <td>-0.578109</td>\n",
       "    </tr>\n",
       "    <tr>\n",
       "      <th>Classes</th>\n",
       "      <td>-0.531291</td>\n",
       "      <td>-0.651414</td>\n",
       "      <td>-0.602254</td>\n",
       "      <td>-0.274583</td>\n",
       "      <td>-0.406275</td>\n",
       "      <td>0.050783</td>\n",
       "      <td>0.025921</td>\n",
       "      <td>0.253670</td>\n",
       "      <td>0.049428</td>\n",
       "      <td>1.000000</td>\n",
       "      <td>0.601594</td>\n",
       "    </tr>\n",
       "    <tr>\n",
       "      <th>Region</th>\n",
       "      <td>-0.986991</td>\n",
       "      <td>-0.975149</td>\n",
       "      <td>-0.967682</td>\n",
       "      <td>0.000578</td>\n",
       "      <td>-0.959317</td>\n",
       "      <td>-0.579395</td>\n",
       "      <td>-0.583456</td>\n",
       "      <td>-0.523598</td>\n",
       "      <td>-0.578109</td>\n",
       "      <td>0.601594</td>\n",
       "      <td>1.000000</td>\n",
       "    </tr>\n",
       "  </tbody>\n",
       "</table>\n",
       "</div>"
      ],
      "text/plain": [
       "             Temperature        RH        Ws      Rain      FFMC       DMC  \\\n",
       "Temperature     1.000000  0.938412  0.944367 -0.080793  0.982268  0.642126   \n",
       "RH              0.938412  1.000000  0.956292  0.076475  0.896056  0.497774   \n",
       "Ws              0.944367  0.956292  1.000000  0.094249  0.912429  0.561476   \n",
       "Rain           -0.080793  0.076475  0.094249  1.000000 -0.170536 -0.224725   \n",
       "FFMC            0.982268  0.896056  0.912429 -0.170536  1.000000  0.699428   \n",
       "DMC             0.642126  0.497774  0.561476 -0.224725  0.699428  1.000000   \n",
       "DC              0.643859  0.507252  0.575493 -0.242560  0.695973  0.974467   \n",
       "ISI             0.605105  0.400088  0.493555 -0.321984  0.694338  0.837314   \n",
       "BUI             0.640741  0.497638  0.563968 -0.231978  0.697189  0.997079   \n",
       "Classes        -0.531291 -0.651414 -0.602254 -0.274583 -0.406275  0.050783   \n",
       "Region         -0.986991 -0.975149 -0.967682  0.000578 -0.959317 -0.579395   \n",
       "\n",
       "                   DC       ISI       BUI   Classes    Region  \n",
       "Temperature  0.643859  0.605105  0.640741 -0.531291 -0.986991  \n",
       "RH           0.507252  0.400088  0.497638 -0.651414 -0.975149  \n",
       "Ws           0.575493  0.493555  0.563968 -0.602254 -0.967682  \n",
       "Rain        -0.242560 -0.321984 -0.231978 -0.274583  0.000578  \n",
       "FFMC         0.695973  0.694338  0.697189 -0.406275 -0.959317  \n",
       "DMC          0.974467  0.837314  0.997079  0.050783 -0.579395  \n",
       "DC           1.000000  0.806429  0.987903  0.025921 -0.583456  \n",
       "ISI          0.806429  1.000000  0.833234  0.253670 -0.523598  \n",
       "BUI          0.987903  0.833234  1.000000  0.049428 -0.578109  \n",
       "Classes      0.025921  0.253670  0.049428  1.000000  0.601594  \n",
       "Region      -0.583456 -0.523598 -0.578109  0.601594  1.000000  "
      ]
     },
     "execution_count": 16,
     "metadata": {},
     "output_type": "execute_result"
    }
   ],
   "source": [
    "## Feature Selection based on correlaltion\n",
    "X_train.corr()"
   ]
  },
  {
   "cell_type": "markdown",
   "id": "6c0e0f8d-6603-4d3e-8c14-fdb0fa85d3e7",
   "metadata": {},
   "source": [
    "# FEATURE SELECTION"
   ]
  },
  {
   "cell_type": "code",
   "execution_count": 17,
   "id": "1a7b2ef7-0853-4eda-884b-405e7fddb233",
   "metadata": {},
   "outputs": [
    {
     "data": {
      "text/plain": [
       "<AxesSubplot: >"
      ]
     },
     "execution_count": 17,
     "metadata": {},
     "output_type": "execute_result"
    },
    {
     "data": {
      "image/png": "[encoded data removed]",
      "text/plain": [
       "<Figure size 1200x1000 with 2 Axes>"
      ]
     },
     "metadata": {},
     "output_type": "display_data"
    }
   ],
   "source": [
    "## Check for multicollinearity\n",
    "plt.figure(figsize=(12,10))\n",
    "corr=X_train.corr()\n",
    "sns.heatmap(corr,annot=True)\n"
   ]
  },
  {
   "cell_type": "code",
   "execution_count": 18,
   "id": "3e8b57bb-02de-492d-8226-03370be63f11",
   "metadata": {},
   "outputs": [
    {
     "data": {
      "text/html": [
       "<div>\n",
       "<style scoped>\n",
       "    .dataframe tbody tr th:only-of-type {\n",
       "        vertical-align: middle;\n",
       "    }\n",
       "\n",
       "    .dataframe tbody tr th {\n",
       "        vertical-align: top;\n",
       "    }\n",
       "\n",
       "    .dataframe thead th {\n",
       "        text-align: right;\n",
       "    }\n",
       "</style>\n",
       "<table border=\"1\" class=\"dataframe\">\n",
       "  <thead>\n",
       "    <tr style=\"text-align: right;\">\n",
       "      <th></th>\n",
       "      <th>Temperature</th>\n",
       "      <th>RH</th>\n",
       "      <th>Ws</th>\n",
       "      <th>Rain</th>\n",
       "      <th>FFMC</th>\n",
       "      <th>DMC</th>\n",
       "      <th>DC</th>\n",
       "      <th>ISI</th>\n",
       "      <th>BUI</th>\n",
       "      <th>Classes</th>\n",
       "      <th>Region</th>\n",
       "    </tr>\n",
       "  </thead>\n",
       "  <tbody>\n",
       "    <tr>\n",
       "      <th>Temperature</th>\n",
       "      <td>1.000000</td>\n",
       "      <td>0.938412</td>\n",
       "      <td>0.944367</td>\n",
       "      <td>-0.080793</td>\n",
       "      <td>0.982268</td>\n",
       "      <td>0.642126</td>\n",
       "      <td>0.643859</td>\n",
       "      <td>0.605105</td>\n",
       "      <td>0.640741</td>\n",
       "      <td>-0.531291</td>\n",
       "      <td>-0.986991</td>\n",
       "    </tr>\n",
       "    <tr>\n",
       "      <th>RH</th>\n",
       "      <td>0.938412</td>\n",
       "      <td>1.000000</td>\n",
       "      <td>0.956292</td>\n",
       "      <td>0.076475</td>\n",
       "      <td>0.896056</td>\n",
       "      <td>0.497774</td>\n",
       "      <td>0.507252</td>\n",
       "      <td>0.400088</td>\n",
       "      <td>0.497638</td>\n",
       "      <td>-0.651414</td>\n",
       "      <td>-0.975149</td>\n",
       "    </tr>\n",
       "    <tr>\n",
       "      <th>Ws</th>\n",
       "      <td>0.944367</td>\n",
       "      <td>0.956292</td>\n",
       "      <td>1.000000</td>\n",
       "      <td>0.094249</td>\n",
       "      <td>0.912429</td>\n",
       "      <td>0.561476</td>\n",
       "      <td>0.575493</td>\n",
       "      <td>0.493555</td>\n",
       "      <td>0.563968</td>\n",
       "      <td>-0.602254</td>\n",
       "      <td>-0.967682</td>\n",
       "    </tr>\n",
       "    <tr>\n",
       "      <th>Rain</th>\n",
       "      <td>-0.080793</td>\n",
       "      <td>0.076475</td>\n",
       "      <td>0.094249</td>\n",
       "      <td>1.000000</td>\n",
       "      <td>-0.170536</td>\n",
       "      <td>-0.224725</td>\n",
       "      <td>-0.242560</td>\n",
       "      <td>-0.321984</td>\n",
       "      <td>-0.231978</td>\n",
       "      <td>-0.274583</td>\n",
       "      <td>0.000578</td>\n",
       "    </tr>\n",
       "    <tr>\n",
       "      <th>FFMC</th>\n",
       "      <td>0.982268</td>\n",
       "      <td>0.896056</td>\n",
       "      <td>0.912429</td>\n",
       "      <td>-0.170536</td>\n",
       "      <td>1.000000</td>\n",
       "      <td>0.699428</td>\n",
       "      <td>0.695973</td>\n",
       "      <td>0.694338</td>\n",
       "      <td>0.697189</td>\n",
       "      <td>-0.406275</td>\n",
       "      <td>-0.959317</td>\n",
       "    </tr>\n",
       "    <tr>\n",
       "      <th>DMC</th>\n",
       "      <td>0.642126</td>\n",
       "      <td>0.497774</td>\n",
       "      <td>0.561476</td>\n",
       "      <td>-0.224725</td>\n",
       "      <td>0.699428</td>\n",
       "      <td>1.000000</td>\n",
       "      <td>0.974467</td>\n",
       "      <td>0.837314</td>\n",
       "      <td>0.997079</td>\n",
       "      <td>0.050783</td>\n",
       "      <td>-0.579395</td>\n",
       "    </tr>\n",
       "    <tr>\n",
       "      <th>DC</th>\n",
       "      <td>0.643859</td>\n",
       "      <td>0.507252</td>\n",
       "      <td>0.575493</td>\n",
       "      <td>-0.242560</td>\n",
       "      <td>0.695973</td>\n",
       "      <td>0.974467</td>\n",
       "      <td>1.000000</td>\n",
       "      <td>0.806429</td>\n",
       "      <td>0.987903</td>\n",
       "      <td>0.025921</td>\n",
       "      <td>-0.583456</td>\n",
       "    </tr>\n",
       "    <tr>\n",
       "      <th>ISI</th>\n",
       "      <td>0.605105</td>\n",
       "      <td>0.400088</td>\n",
       "      <td>0.493555</td>\n",
       "      <td>-0.321984</td>\n",
       "      <td>0.694338</td>\n",
       "      <td>0.837314</td>\n",
       "      <td>0.806429</td>\n",
       "      <td>1.000000</td>\n",
       "      <td>0.833234</td>\n",
       "      <td>0.253670</td>\n",
       "      <td>-0.523598</td>\n",
       "    </tr>\n",
       "    <tr>\n",
       "      <th>BUI</th>\n",
       "      <td>0.640741</td>\n",
       "      <td>0.497638</td>\n",
       "      <td>0.563968</td>\n",
       "      <td>-0.231978</td>\n",
       "      <td>0.697189</td>\n",
       "      <td>0.997079</td>\n",
       "      <td>0.987903</td>\n",
       "      <td>0.833234</td>\n",
       "      <td>1.000000</td>\n",
       "      <td>0.049428</td>\n",
       "      <td>-0.578109</td>\n",
       "    </tr>\n",
       "    <tr>\n",
       "      <th>Classes</th>\n",
       "      <td>-0.531291</td>\n",
       "      <td>-0.651414</td>\n",
       "      <td>-0.602254</td>\n",
       "      <td>-0.274583</td>\n",
       "      <td>-0.406275</td>\n",
       "      <td>0.050783</td>\n",
       "      <td>0.025921</td>\n",
       "      <td>0.253670</td>\n",
       "      <td>0.049428</td>\n",
       "      <td>1.000000</td>\n",
       "      <td>0.601594</td>\n",
       "    </tr>\n",
       "    <tr>\n",
       "      <th>Region</th>\n",
       "      <td>-0.986991</td>\n",
       "      <td>-0.975149</td>\n",
       "      <td>-0.967682</td>\n",
       "      <td>0.000578</td>\n",
       "      <td>-0.959317</td>\n",
       "      <td>-0.579395</td>\n",
       "      <td>-0.583456</td>\n",
       "      <td>-0.523598</td>\n",
       "      <td>-0.578109</td>\n",
       "      <td>0.601594</td>\n",
       "      <td>1.000000</td>\n",
       "    </tr>\n",
       "  </tbody>\n",
       "</table>\n",
       "</div>"
      ],
      "text/plain": [
       "             Temperature        RH        Ws      Rain      FFMC       DMC  \\\n",
       "Temperature     1.000000  0.938412  0.944367 -0.080793  0.982268  0.642126   \n",
       "RH              0.938412  1.000000  0.956292  0.076475  0.896056  0.497774   \n",
       "Ws              0.944367  0.956292  1.000000  0.094249  0.912429  0.561476   \n",
       "Rain           -0.080793  0.076475  0.094249  1.000000 -0.170536 -0.224725   \n",
       "FFMC            0.982268  0.896056  0.912429 -0.170536  1.000000  0.699428   \n",
       "DMC             0.642126  0.497774  0.561476 -0.224725  0.699428  1.000000   \n",
       "DC              0.643859  0.507252  0.575493 -0.242560  0.695973  0.974467   \n",
       "ISI             0.605105  0.400088  0.493555 -0.321984  0.694338  0.837314   \n",
       "BUI             0.640741  0.497638  0.563968 -0.231978  0.697189  0.997079   \n",
       "Classes        -0.531291 -0.651414 -0.602254 -0.274583 -0.406275  0.050783   \n",
       "Region         -0.986991 -0.975149 -0.967682  0.000578 -0.959317 -0.579395   \n",
       "\n",
       "                   DC       ISI       BUI   Classes    Region  \n",
       "Temperature  0.643859  0.605105  0.640741 -0.531291 -0.986991  \n",
       "RH           0.507252  0.400088  0.497638 -0.651414 -0.975149  \n",
       "Ws           0.575493  0.493555  0.563968 -0.602254 -0.967682  \n",
       "Rain        -0.242560 -0.321984 -0.231978 -0.274583  0.000578  \n",
       "FFMC         0.695973  0.694338  0.697189 -0.406275 -0.959317  \n",
       "DMC          0.974467  0.837314  0.997079  0.050783 -0.579395  \n",
       "DC           1.000000  0.806429  0.987903  0.025921 -0.583456  \n",
       "ISI          0.806429  1.000000  0.833234  0.253670 -0.523598  \n",
       "BUI          0.987903  0.833234  1.000000  0.049428 -0.578109  \n",
       "Classes      0.025921  0.253670  0.049428  1.000000  0.601594  \n",
       "Region      -0.583456 -0.523598 -0.578109  0.601594  1.000000  "
      ]
     },
     "execution_count": 18,
     "metadata": {},
     "output_type": "execute_result"
    }
   ],
   "source": [
    "X_train.corr()"
   ]
  },
  {
   "cell_type": "code",
   "execution_count": 19,
   "id": "0854de7f-c329-472c-9c0f-27a09d493fb5",
   "metadata": {},
   "outputs": [],
   "source": [
    "def correlation(dataset,threshhold):\n",
    "    col_corr = set()\n",
    "    corr_matrix = dataset.corr()\n",
    "    for i in range(len(corr_matrix.columns)):\n",
    "        for j in range(i):\n",
    "            if abs(corr_matrix.iloc[i][j] > threshhold):\n",
    "                colname = corr_matrix.columns[i]\n",
    "                col_corr.add(colname)\n",
    "    return col_corr"
   ]
  },
  {
   "cell_type": "code",
   "execution_count": 20,
   "id": "8f6369b8-b265-4f8f-a664-23189f0cbf5e",
   "metadata": {},
   "outputs": [],
   "source": [
    "## threshold--Domain expertise\n",
    "corr_features=correlation(X_train,0.85)"
   ]
  },
  {
   "cell_type": "code",
   "execution_count": 21,
   "id": "d6ea2c00-0e56-4f7e-8559-b707410b1130",
   "metadata": {},
   "outputs": [
    {
     "data": {
      "text/plain": [
       "{'BUI', 'DC', 'FFMC', 'RH', 'Ws'}"
      ]
     },
     "execution_count": 21,
     "metadata": {},
     "output_type": "execute_result"
    }
   ],
   "source": [
    "corr_features"
   ]
  },
  {
   "cell_type": "code",
   "execution_count": 22,
   "id": "e7b0266b-5880-42cb-b035-1e1fd99ad0a7",
   "metadata": {},
   "outputs": [
    {
     "data": {
      "text/plain": [
       "((185, 6), (62, 6))"
      ]
     },
     "execution_count": 22,
     "metadata": {},
     "output_type": "execute_result"
    }
   ],
   "source": [
    "## drop features when correlation is more than 0.85\n",
    "X_train.drop(corr_features,axis=1,inplace=True)\n",
    "X_test.drop(corr_features,axis=1,inplace=True)\n",
    "X_train.shape,X_test.shape"
   ]
  },
  {
   "cell_type": "markdown",
   "id": "9ba652ac-fe57-4ad6-ae0a-ee9943885ae8",
   "metadata": {},
   "source": [
    "Feature Scaling or Standardization"
   ]
  },
  {
   "cell_type": "code",
   "execution_count": 23,
   "id": "d4bdea8d-884b-492b-a5b8-d3b342ffdf33",
   "metadata": {},
   "outputs": [],
   "source": [
    "from sklearn.preprocessing import StandardScaler\n",
    "scaler=StandardScaler()\n",
    "X_train_scaled=scaler.fit_transform(X_train)\n",
    "X_test_scaled=scaler.transform(X_test)"
   ]
  },
  {
   "cell_type": "code",
   "execution_count": 24,
   "id": "96fafe09-f9b5-4bcb-81db-2e052242d43d",
   "metadata": {},
   "outputs": [
    {
     "data": {
      "text/plain": [
       "array([[ 1.12247427e+00,  4.21171025e-01, -4.49475397e-01,\n",
       "        -6.35109069e-01, -1.68942791e+00, -1.01634986e+00],\n",
       "       [-9.71113533e-01,  5.68381950e-04, -5.70074307e-01,\n",
       "        -5.15175236e-01,  5.91916348e-01,  9.83913160e-01],\n",
       "       [-9.71113533e-01,  5.68381950e-04, -5.70074307e-01,\n",
       "        -5.15175236e-01,  5.91916348e-01,  9.83913160e-01],\n",
       "       ...,\n",
       "       [ 5.99077321e-01,  3.26023887e+00, -5.39924579e-01,\n",
       "        -8.34998789e-01, -1.68942791e+00, -1.01634986e+00],\n",
       "       [-9.71113533e-01,  5.68381950e-04, -5.70074307e-01,\n",
       "        -5.15175236e-01,  5.91916348e-01,  9.83913160e-01],\n",
       "       [ 9.26200416e-01,  4.21171025e-01, -4.79625124e-01,\n",
       "        -4.75197292e-01, -1.68942791e+00, -1.01634986e+00]])"
      ]
     },
     "execution_count": 24,
     "metadata": {},
     "output_type": "execute_result"
    }
   ],
   "source": [
    "X_train_scaled"
   ]
  },
  {
   "cell_type": "markdown",
   "id": "028aae04-5edf-478e-8e0f-1a1894710626",
   "metadata": {},
   "source": [
    "## Box Plots To understand Effect Of Standard Scaler"
   ]
  },
  {
   "cell_type": "code",
   "execution_count": 33,
   "id": "73a9bce2-9dbb-4a1a-bc1d-61c6276b3acf",
   "metadata": {},
   "outputs": [
    {
     "name": "stderr",
     "output_type": "stream",
     "text": [
      "/tmp/ipykernel_77/3871579960.py:2: MatplotlibDeprecationWarning: Auto-removal of overlapping axes is deprecated since 3.6 and will be removed two minor releases later; explicitly call ax.remove() as needed.\n",
      "  plt.subplot(1,2,1)\n"
     ]
    },
    {
     "data": {
      "text/plain": [
       "Text(0.5, 1.0, 'X_train After Scaling')"
      ]
     },
     "execution_count": 33,
     "metadata": {},
     "output_type": "execute_result"
    },
    {
     "data": {
      "image/png": "[encoded data removed]",
      "text/plain": [
       "<Figure size 1500x500 with 2 Axes>"
      ]
     },
     "metadata": {},
     "output_type": "display_data"
    }
   ],
   "source": [
    "plt.subplots(figsize=(15, 5))\n",
    "plt.subplot(1,2,1)\n",
    "sns.boxplot(data=X_train)\n",
    "plt.title('X_train Before Scaling')\n",
    "plt.subplot(1,2,2)\n",
    "sns.boxplot(data=X_train_scaled)\n",
    "plt.title('X_train After Scaling')"
   ]
  },
  {
   "cell_type": "markdown",
   "id": "7c1a07a3-8e9f-4b8e-86d6-819f4206a3e7",
   "metadata": {},
   "source": [
    "# Linear Regression Model"
   ]
  },
  {
   "cell_type": "code",
   "execution_count": 34,
   "id": "098efbe7-0f9f-41e9-9a8b-45288924ea3c",
   "metadata": {},
   "outputs": [
    {
     "name": "stdout",
     "output_type": "stream",
     "text": [
      "Mean Absolute Error 0.4051968249924959\n",
      "R2 Score 0.9786976037082611\n"
     ]
    }
   ],
   "source": [
    "from sklearn.linear_model import LinearRegression\n",
    "from sklearn.metrics import mean_absolute_error\n",
    "from sklearn.metrics import r2_score\n",
    "linreg = LinearRegression()\n",
    "linreg.fit(X_train_scaled,y_train)\n",
    "y_pred = linreg.predict(X_test_scaled)\n",
    "mae=mean_absolute_error(y_test,y_pred)\n",
    "score=r2_score(y_test,y_pred)\n",
    "print(\"Mean Absolute Error\",mae)\n",
    "print(\"R2 Score\",score)"
   ]
  },
  {
   "cell_type": "markdown",
   "id": "d0bc7f23-a74b-4d85-a6fc-8f6ac2edd6d4",
   "metadata": {},
   "source": [
    " ## Lasso Regression (L1 Regulation) -- Feature Selection"
   ]
  },
  {
   "cell_type": "code",
   "execution_count": 36,
   "id": "9ea2e65e-7bba-48d2-9289-e121cd781aa3",
   "metadata": {},
   "outputs": [
    {
     "name": "stdout",
     "output_type": "stream",
     "text": [
      "Mean Absolute Error 0.6999050435454802\n",
      "R2 Score 0.9278046830617291\n"
     ]
    }
   ],
   "source": [
    "from sklearn.linear_model import Lasso\n",
    "from sklearn.metrics import mean_absolute_error\n",
    "from sklearn.metrics import r2_score\n",
    "lasso = Lasso()\n",
    "lasso.fit(X_train_scaled,y_train)\n",
    "y_pred=lasso.predict(X_test_scaled)\n",
    "mae=mean_absolute_error(y_test,y_pred)\n",
    "score=r2_score(y_test,y_pred)\n",
    "print(\"Mean Absolute Error\",mae)\n",
    "print(\"R2 Score\",score)\n",
    "\n"
   ]
  },
  {
   "cell_type": "markdown",
   "id": "9676fcd0-cf53-4714-a05b-007e31948d59",
   "metadata": {},
   "source": [
    "## Ridge Regression Model (L2 Regulation ) -- To Reduce the Overfitting"
   ]
  },
  {
   "cell_type": "code",
   "execution_count": 37,
   "id": "1c942963-0359-496b-814b-994e75db7fea",
   "metadata": {},
   "outputs": [
    {
     "name": "stdout",
     "output_type": "stream",
     "text": [
      "Mean Absolute Error 0.39998305633478715\n",
      "R2 Score 0.979518121695595\n"
     ]
    }
   ],
   "source": [
    "from sklearn.linear_model import Ridge\n",
    "from sklearn.metrics import mean_absolute_error\n",
    "from sklearn.metrics import r2_score\n",
    "ridge = Ridge()\n",
    "ridge.fit(X_train_scaled,y_train)\n",
    "y_pred=ridge.predict(X_test_scaled)\n",
    "mae=mean_absolute_error(y_test,y_pred)\n",
    "score=r2_score(y_test,y_pred)\n",
    "print(\"Mean Absolute Error\",mae)\n",
    "print(\"R2 Score\",score)\n",
    "\n"
   ]
  },
  {
   "cell_type": "markdown",
   "id": "f9bda73b-1d63-4500-b92b-fc97d13eac97",
   "metadata": {},
   "source": [
    "## Elasticnet Regression -- Both Above"
   ]
  },
  {
   "cell_type": "code",
   "execution_count": 39,
   "id": "eb515257-6bff-4148-993d-0c3a8c228888",
   "metadata": {},
   "outputs": [
    {
     "name": "stdout",
     "output_type": "stream",
     "text": [
      "Mean Absolute Error 0.9396050840824279\n",
      "R2 Score 0.8922665309333505\n"
     ]
    }
   ],
   "source": [
    "from sklearn.linear_model import ElasticNet\n",
    "from sklearn.metrics import mean_absolute_error\n",
    "from sklearn.metrics import r2_score\n",
    "elastic= ElasticNet()\n",
    "elastic.fit(X_train_scaled,y_train)\n",
    "y_pred=elastic.predict(X_test_scaled)\n",
    "mae=mean_absolute_error(y_test,y_pred)\n",
    "score=r2_score(y_test,y_pred)\n",
    "print(\"Mean Absolute Error\",mae)\n",
    "print(\"R2 Score\",score)\n",
    "\n"
   ]
  },
  {
   "cell_type": "markdown",
   "id": "47c9ff1b-221b-41cb-afba-da4b9245ad01",
   "metadata": {},
   "source": [
    "## Pickling"
   ]
  },
  {
   "cell_type": "code",
   "execution_count": 40,
   "id": "6f17e5bd-63d2-44db-8fb4-362a4972783b",
   "metadata": {},
   "outputs": [],
   "source": [
    "## HOW TO MAKE A PICKLE FILE IN FOR THE PERPOSE OF REUSE THESE GIVEN MODELS"
   ]
  },
  {
   "cell_type": "code",
   "execution_count": 43,
   "id": "6026fc1c-4968-49f7-a299-4139fd46d728",
   "metadata": {},
   "outputs": [],
   "source": [
    "import pickle\n",
    "pickle.dump(scaler,open(\"Scaler_model.pkl\",'wb'))\n",
    "pickle.dump(ridge,open(\"Ridge.pkl\",\"wb\"))\n",
    "                        "
   ]
  },
  {
   "cell_type": "code",
   "execution_count": null,
   "id": "d5499b50-16f7-47f5-a9e5-c13d224646b3",
   "metadata": {},
   "outputs": [],
   "source": []
  }
 ],
 "metadata": {
  "kernelspec": {
   "display_name": "Python 3.8.10 64-bit",
   "language": "python",
   "name": "python3"
  },
  "language_info": {
   "codemirror_mode": {
    "name": "ipython",
    "version": 3
   },
   "file_extension": ".py",
   "mimetype": "text/x-python",
   "name": "python",
   "nbconvert_exporter": "python",
   "pygments_lexer": "ipython3",
   "version": "3.8.10"
  },
  "vscode": {
   "interpreter": {
    "hash": "e7370f93d1d0cde622a1f8e1c04877d8463912d04d973331ad4851f04de6915a"
   }
  }
 },
 "nbformat": 4,
 "nbformat_minor": 5
}
